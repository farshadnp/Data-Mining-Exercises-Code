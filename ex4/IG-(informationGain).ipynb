{
 "cells": [
  {
   "cell_type": "markdown",
   "metadata": {},
   "source": [
    "## Calculate [Entropy and InformationGain] of DataFruit\n",
    "### Farshad NematPour"
   ]
  },
  {
   "cell_type": "markdown",
   "metadata": {
    "scrolled": true
   },
   "source": [
    "### 0. import Dataset and bird-view"
   ]
  },
  {
   "cell_type": "code",
   "execution_count": 29,
   "metadata": {},
   "outputs": [
    {
     "data": {
      "text/html": [
       "<div>\n",
       "<style scoped>\n",
       "    .dataframe tbody tr th:only-of-type {\n",
       "        vertical-align: middle;\n",
       "    }\n",
       "\n",
       "    .dataframe tbody tr th {\n",
       "        vertical-align: top;\n",
       "    }\n",
       "\n",
       "    .dataframe thead th {\n",
       "        text-align: right;\n",
       "    }\n",
       "</style>\n",
       "<table border=\"1\" class=\"dataframe\">\n",
       "  <thead>\n",
       "    <tr style=\"text-align: right;\">\n",
       "      <th></th>\n",
       "      <th>class</th>\n",
       "      <th>attr1</th>\n",
       "      <th>attr2</th>\n",
       "      <th>attr3</th>\n",
       "    </tr>\n",
       "  </thead>\n",
       "  <tbody>\n",
       "    <tr>\n",
       "      <th>0</th>\n",
       "      <td>melon</td>\n",
       "      <td>96.0</td>\n",
       "      <td>960.3</td>\n",
       "      <td>597</td>\n",
       "    </tr>\n",
       "    <tr>\n",
       "      <th>1</th>\n",
       "      <td>orange</td>\n",
       "      <td>33.4</td>\n",
       "      <td>216.9</td>\n",
       "      <td>32</td>\n",
       "    </tr>\n",
       "    <tr>\n",
       "      <th>2</th>\n",
       "      <td>melon</td>\n",
       "      <td>67.2</td>\n",
       "      <td>671.9</td>\n",
       "      <td>426</td>\n",
       "    </tr>\n",
       "    <tr>\n",
       "      <th>3</th>\n",
       "      <td>melon</td>\n",
       "      <td>93.1</td>\n",
       "      <td>930.7</td>\n",
       "      <td>496</td>\n",
       "    </tr>\n",
       "    <tr>\n",
       "      <th>4</th>\n",
       "      <td>orange</td>\n",
       "      <td>44.2</td>\n",
       "      <td>271.1</td>\n",
       "      <td>42</td>\n",
       "    </tr>\n",
       "  </tbody>\n",
       "</table>\n",
       "</div>"
      ],
      "text/plain": [
       "    class  attr1  attr2  attr3\n",
       "0   melon   96.0  960.3    597\n",
       "1  orange   33.4  216.9     32\n",
       "2   melon   67.2  671.9    426\n",
       "3   melon   93.1  930.7    496\n",
       "4  orange   44.2  271.1     42"
      ]
     },
     "execution_count": 29,
     "metadata": {},
     "output_type": "execute_result"
    }
   ],
   "source": [
    "import numpy as np\n",
    "import pandas as pd\n",
    "\n",
    "DataFruit = pd.read_csv(\"detaFruit.csv\")\n",
    "# DataFruit[['class','attr1','attr3']].head(5)\n",
    "#df.describe()\n",
    "DataFruit.head(5)"
   ]
  },
  {
   "cell_type": "markdown",
   "metadata": {
    "scrolled": true
   },
   "source": [
    "### 1. Calculate Count of each Class"
   ]
  },
  {
   "cell_type": "code",
   "execution_count": 102,
   "metadata": {
    "scrolled": true
   },
   "outputs": [
    {
     "name": "stdout",
     "output_type": "stream",
     "text": [
      "melon : 100\n",
      "orange: 80\n",
      "apple : 80\n",
      "---------------------\n",
      "Tottal fruit: 260\n"
     ]
    }
   ],
   "source": [
    "melon = 0\n",
    "apple = 0 \n",
    "orange = 0\n",
    "total = len(df)\n",
    "for i,row in df.iterrows():\n",
    "    if row['class'] =='melon' :\n",
    "        melon = melon + 1\n",
    "    elif row['class'] =='orange' :\n",
    "        orange = orange + 1\n",
    "    elif row['class'] =='apple' :\n",
    "        apple = apple + 1\n",
    "        \n",
    "TottalFruit=melon+apple+orange\n",
    "print(\"melon :\",melon)\n",
    "print(\"orange:\",orange)\n",
    "print(\"apple :\",apple)\n",
    "print(\"---------------------\")\n",
    "print(\"Tottal fruit:\",TottalFruit)"
   ]
  },
  {
   "cell_type": "markdown",
   "metadata": {
    "scrolled": true
   },
   "source": [
    "### 2. Calculate Posibility of each Class"
   ]
  },
  {
   "cell_type": "code",
   "execution_count": 72,
   "metadata": {},
   "outputs": [
    {
     "name": "stdout",
     "output_type": "stream",
     "text": [
      "Posibility of each fruit \n",
      "---------------------\n",
      "melon : 0.38461538461538464\n",
      "orange: 0.3076923076923077\n",
      "apple : 0.3076923076923077\n",
      "---------------------\n",
      "All posibilities: 1\n"
     ]
    }
   ],
   "source": [
    "melonPosibility = melon/ TottalFruit\n",
    "orangePosibility = orange/ TottalFruit\n",
    "applePosibility = apple/ TottalFruit\n",
    "TottalFruitPosibility = 1\n",
    "print(\"Posibility of each fruit \")\n",
    "print(\"---------------------\")\n",
    "print(\"melon :\",melonPosibility)\n",
    "print(\"orange:\",orangePosibility)\n",
    "print(\"apple :\",applePosibility)\n",
    "print(\"---------------------\")\n",
    "print(\"All posibilities:\",TottalFruitPosibility)"
   ]
  },
  {
   "cell_type": "markdown",
   "metadata": {
    "scrolled": true
   },
   "source": [
    "### 3. Calculate Entropy -without- Injecting Conditions"
   ]
  },
  {
   "cell_type": "code",
   "execution_count": 93,
   "metadata": {},
   "outputs": [],
   "source": [
    "def entropy(class0, class1,class2):\n",
    "    particle0 = particle1 = particle2 = 0\n",
    "    if class0:\n",
    "           particle0 = class0 * np.log2(class0)\n",
    "    if class1:\n",
    "           particle1 = class1 * np.log2(class1)\n",
    "    if class2:\n",
    "           particle1 = class2 * np.log2(class2)\n",
    "           \n",
    "    return (-(particle0 + particle1 + particle2 ))\n"
   ]
  },
  {
   "cell_type": "code",
   "execution_count": 94,
   "metadata": {},
   "outputs": [
    {
     "data": {
      "text/plain": [
       "1.5766212201074912"
      ]
     },
     "execution_count": 94,
     "metadata": {},
     "output_type": "execute_result"
    }
   ],
   "source": [
    "EntropyWithoutCondition=-(    (melonPosibility*np.log2(melonPosibility))   +\n",
    "                              (orangePosibility*np.log2(orangePosibility)) +\n",
    "                              (applePosibility*np.log2(applePosibility))   \n",
    "                         )\n",
    "EntropyWithoutCondition"
   ]
  },
  {
   "cell_type": "markdown",
   "metadata": {
    "scrolled": true
   },
   "source": [
    "#### 3.1 Define and Inject Conditions\n",
    "###### I found best condition. (attr2<250)"
   ]
  },
  {
   "cell_type": "code",
   "execution_count": 98,
   "metadata": {},
   "outputs": [],
   "source": [
    "# CC = Condition Counter\n",
    "CC = 0\n",
    "conditionVaue = 250\n",
    "\n",
    "melonCounterWithCondition=0\n",
    "orangeCounterWithCondition=0\n",
    "appleCounterWithCondition=0\n",
    "\n",
    "\n",
    "dc1_class0 = 0\n",
    "dc1_class1 = 0\n",
    "dc1_class2 = 0\n",
    "\n",
    "\n",
    "for i,row in df.iterrows():\n",
    "    if row['class'] =='melon' and row[attrib] < conditionVaue :\n",
    "        melonCounterWithCondition = melonCounterWithCondition + 1\n",
    "    elif row['class'] =='orange' and row[attrib] < conditionVaue:\n",
    "        orangeCounterWithCondition = orangeCounterWithCondition + 1\n",
    "    elif row['class'] =='apple'  and row[attrib] < conditionVaue:\n",
    "        appleCounterWithCondition = appleCounterWithCondition + 1\n",
    "Total_AfterCondition = melonCounterWithCondition + orangeCounterWithCondition + appleCounterWithCondition\n",
    "Entropy_AfterCondition = entropy(melonCounterWithCondition/Total_AfterCondition ,\n",
    "                                 orangeCounterWithCondition/Total_AfterCondition ,\n",
    "                                 appleCounterWithCondition/Total_AfterCondition )"
   ]
  },
  {
   "cell_type": "code",
   "execution_count": 107,
   "metadata": {},
   "outputs": [
    {
     "name": "stdout",
     "output_type": "stream",
     "text": [
      "Condition Total:  70\n",
      "Condition Entropy:  0.3825099728809971\n",
      "Condition Entropy: 0.348 bits\n",
      "Information Gain: 0.035 bits\n"
     ]
    }
   ],
   "source": [
    "print(\"Condition Total: \",Total_AfterCondition)\n",
    "print(\"Condition Entropy: \",Entropy_AfterCondition)\n",
    "\n",
    "\n",
    "\n",
    "conditionEntropy = (Total_AfterCondition / total) * c1_entropy + (dc1_total/total) * dc1_entropy\n",
    "print('Condition Entropy: %.3f bits' % conditionEntropy)\n",
    "\n",
    "gain = Entropy_AfterCondition - conditionEntropy\n",
    "print('Information Gain: %.3f bits' % gain)"
   ]
  },
  {
   "cell_type": "markdown",
   "metadata": {},
   "source": [
    "### 4. Calculate Count of each Class after Injecting Conditions"
   ]
  }
 ],
 "metadata": {
  "kernelspec": {
   "display_name": "Python 3",
   "language": "python",
   "name": "python3"
  },
  "language_info": {
   "codemirror_mode": {
    "name": "ipython",
    "version": 3
   },
   "file_extension": ".py",
   "mimetype": "text/x-python",
   "name": "python",
   "nbconvert_exporter": "python",
   "pygments_lexer": "ipython3",
   "version": "3.7.6"
  }
 },
 "nbformat": 4,
 "nbformat_minor": 4
}
