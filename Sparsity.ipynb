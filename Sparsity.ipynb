{
 "cells": [
  {
   "cell_type": "markdown",
   "metadata": {},
   "source": [
    "# implimentationing sparsity detection in matrix"
   ]
  },
  {
   "cell_type": "markdown",
   "metadata": {},
   "source": [
    "### 1.define matrix"
   ]
  },
  {
   "cell_type": "code",
   "execution_count": 1,
   "metadata": {},
   "outputs": [],
   "source": [
    "import numpy as np\n",
    "import pandas as pd\n",
    "import scipy as sp"
   ]
  },
  {
   "cell_type": "code",
   "execution_count": 2,
   "metadata": {},
   "outputs": [
    {
     "data": {
      "text/plain": [
       "matrix([[1, 0, 0, 0, 5, 0, 0, 0, 0],\n",
       "        [0, 4, 0, 7, 0, 0, 0, 0, 0],\n",
       "        [0, 4, 0, 0, 0, 0, 0, 0, 2],\n",
       "        [3, 5, 0, 0, 1, 0, 0, 0, 0],\n",
       "        [0, 0, 0, 5, 0, 6, 0, 0, 2]])"
      ]
     },
     "execution_count": 2,
     "metadata": {},
     "output_type": "execute_result"
    }
   ],
   "source": [
    "A = np.matrix('1 0 0 0 5 0 0 0 0; 0 4 0 7 0 0 0 0 0; 0 4 0 0 0 0 0 0 2; 3 5 0 0 1 0 0 0 0; 0 0 0 5 0 6 0 0 2')\n",
    "A"
   ]
  },
  {
   "cell_type": "code",
   "execution_count": 3,
   "metadata": {},
   "outputs": [
    {
     "data": {
      "text/plain": [
       "12"
      ]
     },
     "execution_count": 3,
     "metadata": {},
     "output_type": "execute_result"
    }
   ],
   "source": [
    "np.count_nonzero(A)     # it's shown the count of none zero valiues in specefic Matrix"
   ]
  },
  {
   "cell_type": "code",
   "execution_count": 4,
   "metadata": {},
   "outputs": [
    {
     "name": "stdout",
     "output_type": "stream",
     "text": [
      "Name            Shape            Bytes            Type\n",
      "===========================================================\n",
      "\n",
      "__              5 x 9            180              int32\n",
      "A (__)          5 x 9            180              int32\n",
      "_2 (__)         5 x 9            180              int32\n",
      "\n",
      "Upper bound on total bytes  =       180\n"
     ]
    }
   ],
   "source": [
    "np.who()"
   ]
  },
  {
   "cell_type": "markdown",
   "metadata": {},
   "source": [
    "### 2.make sparse matrix"
   ]
  },
  {
   "cell_type": "code",
   "execution_count": 5,
   "metadata": {},
   "outputs": [
    {
     "name": "stdout",
     "output_type": "stream",
     "text": [
      "  (0, 0)\t1\n",
      "  (0, 4)\t5\n",
      "  (1, 1)\t4\n",
      "  (1, 3)\t7\n",
      "  (2, 1)\t4\n",
      "  (2, 8)\t2\n",
      "  (3, 0)\t3\n",
      "  (3, 1)\t5\n",
      "  (3, 4)\t1\n",
      "  (4, 3)\t5\n",
      "  (4, 5)\t6\n",
      "  (4, 8)\t2\n"
     ]
    }
   ],
   "source": [
    "from scipy import sparse\n",
    "A_afterSparse = sparse.dok_matrix(A)\n",
    "print(A_afterSparse)"
   ]
  },
  {
   "cell_type": "code",
   "execution_count": 6,
   "metadata": {},
   "outputs": [
    {
     "name": "stdout",
     "output_type": "stream",
     "text": [
      "48 bytes\n"
     ]
    }
   ],
   "source": [
    "print(A_afterSparse.size*A.itemsize, \"bytes\")    # size of usage after sparsing that matrix   in this case it's increase about 2/3"
   ]
  },
  {
   "cell_type": "markdown",
   "metadata": {},
   "source": [
    "###### Farshad NematPour"
   ]
  }
 ],
 "metadata": {
  "kernelspec": {
   "display_name": "Python 3",
   "language": "python",
   "name": "python3"
  },
  "language_info": {
   "codemirror_mode": {
    "name": "ipython",
    "version": 3
   },
   "file_extension": ".py",
   "mimetype": "text/x-python",
   "name": "python",
   "nbconvert_exporter": "python",
   "pygments_lexer": "ipython3",
   "version": "3.7.6"
  }
 },
 "nbformat": 4,
 "nbformat_minor": 4
}
