{
 "cells": [
  {
   "cell_type": "markdown",
   "metadata": {},
   "source": [
    "### Build Matrix structure Without any Package or Libreary"
   ]
  },
  {
   "cell_type": "code",
   "execution_count": 35,
   "metadata": {},
   "outputs": [
    {
     "name": "stdout",
     "output_type": "stream",
     "text": [
      "Enter the number of rows:6\n",
      "Enter the number of columns:5\n",
      "Enter the entries rowwise:\n",
      "0\n",
      "0\n",
      "0\n",
      "0\n",
      "0\n",
      "5\n",
      "5\n",
      "6\n",
      "0\n",
      "0\n",
      "0\n",
      "4\n",
      "0\n",
      "0\n",
      "0\n",
      "0\n",
      "0\n",
      "0\n",
      "0\n",
      "7\n",
      "0\n",
      "0\n",
      "0\n",
      "0\n",
      "9\n",
      "0\n",
      "0\n",
      "1\n",
      "0\n",
      "0\n",
      "__________________\n",
      "0 0 0 0 0 \n",
      "5 5 6 0 0 \n",
      "0 4 0 0 0 \n",
      "0 0 0 0 7 \n",
      "0 0 0 0 9 \n",
      "0 0 1 0 0 \n"
     ]
    }
   ],
   "source": [
    "Rows = int(input(\"Enter the number of rows:\")) \n",
    "Columns = int(input(\"Enter the number of columns:\")) \n",
    "\n",
    "# Initialize matrix \n",
    "Mymatrix = [] \n",
    "print(\"Enter the entries rowwise:\") \n",
    "\n",
    "# user input \n",
    "for i in range(Rows):\t\t # a For-loop for rows\n",
    "    a =[] \n",
    "    for j in range(Columns):\t # a For-loop for columns\n",
    "        a.append(int(input())) \n",
    "    Mymatrix.append(a) \n",
    "print(\"__________________\")\n",
    "# For printing the matrix \n",
    "for i in range(Rows): \n",
    "    for j in range(Columns): \n",
    "        print(Mymatrix[i][j], end = \" \")    # ya bayad inja addres index [i] va [j] ro zakhire konim   va paenesh neshoonesh bedim   ke kaar sparsity ro anjam midim\n",
    "    print() "
   ]
  },
  {
   "cell_type": "markdown",
   "metadata": {},
   "source": [
    "### zero value Detection and remove them"
   ]
  },
  {
   "cell_type": "code",
   "execution_count": 37,
   "metadata": {},
   "outputs": [
    {
     "name": "stdout",
     "output_type": "stream",
     "text": [
      "Enter the number of rows:2\n",
      "Enter the number of columns:2\n",
      "Enter the entries rowwise:\n",
      "0\n",
      "0\n",
      "1\n",
      "1\n",
      "__________________\n",
      "\n",
      "1 1 \n"
     ]
    }
   ],
   "source": [
    "Rows = int(input(\"Enter the number of rows:\")) \n",
    "Columns = int(input(\"Enter the number of columns:\")) \n",
    "\n",
    "# Initialize matrix \n",
    "Mymatrix2 = [] \n",
    "print(\"Enter the entries rowwise:\") \n",
    "\n",
    "# user input \n",
    "for i in range(Rows):\t\t # a For-loop for rows\n",
    "    a =[] \n",
    "    for j in range(Columns):\t # a For-loop for columns\n",
    "        a.append(int(input())) \n",
    "    Mymatrix2.append(a) \n",
    "print(\"__________________\")\n",
    "# For printing the matrix \n",
    "for i in range(Rows): \n",
    "    for j in range(Columns):\n",
    "        if Mymatrix2[i][j] !=0:   # inja bayad behesh begim  index ro vasamoon berize to ye zarfe dg \n",
    "            print(Mymatrix2[i][j], end = \" \")    # ya bayad inja addres index [i] va [j] ro zakhire konim   va paenesh neshoonesh bedim   ke kaar sparsity ro anjam midim\n",
    "    print() "
   ]
  },
  {
   "cell_type": "markdown",
   "metadata": {},
   "source": [
    "### convert a matrix to sparse matrix"
   ]
  },
  {
   "cell_type": "code",
   "execution_count": 38,
   "metadata": {
    "scrolled": true
   },
   "outputs": [
    {
     "name": "stdout",
     "output_type": "stream",
     "text": [
      "0 0 0 0 0 \n",
      "5 5 6 0 0 \n",
      "0 4 0 0 0 \n",
      "0 0 0 0 7 \n",
      "0 0 0 0 9 \n",
      "0 0 1 0 0 \n",
      "\n",
      "Sparse Matrix: \n",
      "1 0 5 \n",
      "1 1 5 \n",
      "1 2 6 \n",
      "2 1 4 \n",
      "3 4 7 \n",
      "4 4 9 \n",
      "5 2 1 \n"
     ]
    }
   ],
   "source": [
    "# function display a matrix \n",
    "def displayMatrix(matrix): \n",
    "      \n",
    "    for row in matrix: \n",
    "        for element in row: \n",
    "            print(element, end =\" \") \n",
    "        print() \n",
    "  \n",
    "# function to convert the matrix  \n",
    "# into a sparse matrix \n",
    "def convertToSparseMatrix(matrix): \n",
    "  \n",
    "    # creating an empty sparse  \n",
    "    # matrix list \n",
    "    sparseMatrix =[] \n",
    "  \n",
    "    # searching values greater  \n",
    "    # than zero \n",
    "    for i in range(len(matrix)): \n",
    "        for j in range(len(matrix[0])): \n",
    "            if matrix[i][j] != 0 : \n",
    "  \n",
    "                # creating a temporaray \n",
    "                # sublist \n",
    "                temp = [] \n",
    "  \n",
    "                # appending row value, column  \n",
    "                # value and element into the  \n",
    "                # sublist  \n",
    "                temp.append(i) \n",
    "                temp.append(j) \n",
    "                temp.append(matrix[i][j]) \n",
    "  \n",
    "                # appending the sublist into \n",
    "                # the sparse matrix list \n",
    "                sparseMatrix.append(temp) \n",
    "  \n",
    "    # displaying the sparse matrix \n",
    "    print(\"\\nSparse Matrix: \")  \n",
    "    displayMatrix(sparseMatrix)                  \n",
    "    \n",
    "'''  \n",
    "# Driver's code \n",
    "# initializing a normal matrix \n",
    "normalMatrix =[\n",
    "    [0, 0, 0, 0],  \n",
    "               [0, 2, 0, 0],  \n",
    "               [0, 0, 3, 0],  \n",
    "               [0, 0, 0, 4],  \n",
    "               [5, 0, 0, 0]]  \n",
    "'''\n",
    "\n",
    "# displaying the matrix \n",
    "displayMatrix(Mymatrix) \n",
    "  \n",
    "# converting the matrix to sparse  \n",
    "# displayMatrix  \n",
    "convertToSparseMatrix(Mymatrix) "
   ]
  },
  {
   "cell_type": "code",
   "execution_count": null,
   "metadata": {},
   "outputs": [],
   "source": []
  }
 ],
 "metadata": {
  "kernelspec": {
   "display_name": "Python 3",
   "language": "python",
   "name": "python3"
  },
  "language_info": {
   "codemirror_mode": {
    "name": "ipython",
    "version": 3
   },
   "file_extension": ".py",
   "mimetype": "text/x-python",
   "name": "python",
   "nbconvert_exporter": "python",
   "pygments_lexer": "ipython3",
   "version": "3.7.6"
  }
 },
 "nbformat": 4,
 "nbformat_minor": 4
}
