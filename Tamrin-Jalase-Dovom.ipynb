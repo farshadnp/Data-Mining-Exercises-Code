{
 "cells": [
  {
   "cell_type": "code",
   "execution_count": 30,
   "metadata": {},
   "outputs": [
    {
     "name": "stdout",
     "output_type": "stream",
     "text": [
      "Enter the number of rows:8\n",
      "Enter the number of columns:5\n",
      "Enter the entries rowwise:\n",
      "12\n",
      "0\n",
      "56\n",
      "5\n",
      "8\n",
      "1\n",
      "2\n",
      "5\n",
      "6\n",
      "7\n",
      "4\n",
      "12\n",
      "47\n",
      "0\n",
      "0\n",
      "0\n",
      "0\n",
      "4\n",
      "4\n",
      "7\n",
      "0\n",
      "4\n",
      "0\n",
      "0\n",
      "4\n",
      "5\n",
      "7\n",
      "0\n",
      "1\n",
      "0\n",
      "0\n",
      "6\n",
      "6\n",
      "0\n",
      "3\n",
      "50\n",
      "3\n",
      "60\n",
      "6\n",
      "0\n",
      "__________________\n",
      "12 0 56 5 8 \n",
      "1 2 5 6 7 \n",
      "4 12 47 0 0 \n",
      "0 0 4 4 7 \n",
      "0 4 0 0 4 \n",
      "5 7 0 1 0 \n",
      "0 6 6 0 3 \n",
      "50 3 60 6 0 \n"
     ]
    }
   ],
   "source": [
    "Rows = int(input(\"Enter the number of rows:\")) \n",
    "Columns = int(input(\"Enter the number of columns:\")) \n",
    "\n",
    "# Initialize matrix \n",
    "matrix = [] \n",
    "print(\"Enter the entries rowwise:\") \n",
    "\n",
    "# user input \n",
    "for i in range(Rows):\t\t # a For-loop for rows\n",
    "    a =[] \n",
    "    for j in range(Columns):\t # a For-loop for columns\n",
    "        a.append(int(input())) \n",
    "    matrix.append(a) \n",
    "print(\"__________________\")\n",
    "# For printing the matrix \n",
    "for i in range(Rows): \n",
    "    for j in range(Columns): \n",
    "        print(matrix[i][j], end = \" \") \n",
    "    print() "
   ]
  },
  {
   "cell_type": "code",
   "execution_count": 24,
   "metadata": {},
   "outputs": [
    {
     "name": "stdout",
     "output_type": "stream",
     "text": [
      "1\n",
      "5\n",
      "10\n",
      "1\n",
      "2\n"
     ]
    }
   ],
   "source": [
    "a=[1,5,0,0,0,10,0,1,2,0]\n",
    "b=[]\n",
    "\n",
    "for i in range(len(a)):\n",
    "    if a[i] != 0: print(a[i])"
   ]
  },
  {
   "cell_type": "markdown",
   "metadata": {},
   "source": [
    "## Farshad Nematpour"
   ]
  }
 ],
 "metadata": {
  "kernelspec": {
   "display_name": "Python 3",
   "language": "python",
   "name": "python3"
  },
  "language_info": {
   "codemirror_mode": {
    "name": "ipython",
    "version": 3
   },
   "file_extension": ".py",
   "mimetype": "text/x-python",
   "name": "python",
   "nbconvert_exporter": "python",
   "pygments_lexer": "ipython3",
   "version": "3.7.6"
  }
 },
 "nbformat": 4,
 "nbformat_minor": 4
}
