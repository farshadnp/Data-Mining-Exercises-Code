{
 "cells": [
  {
   "cell_type": "code",
   "execution_count": null,
   "metadata": {},
   "outputs": [],
   "source": [
    "Rows = int(input(\"Enter the number of rows:\")) \n",
    "Columns = int(input(\"Enter the number of columns:\")) \n",
    "\n",
    "# Initialize matrix \n",
    "matrix = [] \n",
    "print(\"Enter the entries rowwise:\") \n",
    "\n",
    "# user input \n",
    "for i in range(Rows):\t\t # a For-loop for rows\n",
    "    a =[] \n",
    "    for j in range(Columns):\t # a For-loop for columns\n",
    "        a.append(int(input())) \n",
    "    matrix.append(a) \n",
    "print(\"__________________\")\n",
    "# For printing the matrix \n",
    "for i in range(Rows): \n",
    "    for j in range(Columns): \n",
    "        print(matrix[i][j], end = \" \") \n",
    "    print() "
   ]
  },
  {
   "cell_type": "code",
   "execution_count": 24,
   "metadata": {},
   "outputs": [
    {
     "name": "stdout",
     "output_type": "stream",
     "text": [
      "1\n",
      "5\n",
      "10\n",
      "1\n",
      "2\n"
     ]
    }
   ],
   "source": [
    "a=[1,5,0,0,0,10,0,1,2,0]\n",
    "b=[]\n",
    "\n",
    "for i in range(len(a)):\n",
    "    if a[i] != 0: print(a[i])"
   ]
  },
  {
   "cell_type": "code",
   "execution_count": null,
   "metadata": {},
   "outputs": [],
   "source": []
  }
 ],
 "metadata": {
  "kernelspec": {
   "display_name": "Python 3",
   "language": "python",
   "name": "python3"
  },
  "language_info": {
   "codemirror_mode": {
    "name": "ipython",
    "version": 3
   },
   "file_extension": ".py",
   "mimetype": "text/x-python",
   "name": "python",
   "nbconvert_exporter": "python",
   "pygments_lexer": "ipython3",
   "version": "3.7.6"
  }
 },
 "nbformat": 4,
 "nbformat_minor": 4
}
